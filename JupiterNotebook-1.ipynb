{
 "cells": [
  {
   "attachments": {},
   "cell_type": "markdown",
   "metadata": {},
   "source": [
    "Python Machine Learning Tutorial - from Youtube"
   ]
  },
  {
   "attachments": {},
   "cell_type": "markdown",
   "metadata": {},
   "source": [
    "Steps \n",
    "\n",
    "1. Import the data - which often comes in a form of csv file;\n",
    "2. Clean the data - the input data shall be in a good and clean shape;\n",
    "3. Split the data into TRaining/Test sets;\n",
    "4. Create a Model - selecting an algorithm to analyze the data. There are so many different machine learning algorithms out there, each algorithm has it prons and cons in termos of accuracy and perfomance;\n",
    "5. Train the Model;\n",
    "6. Make predictions;\n",
    "7. Evaluate and improve."
   ]
  },
  {
   "attachments": {},
   "cell_type": "markdown",
   "metadata": {},
   "source": [
    "Libraries\n",
    "\n",
    "1. Numpy:  provides a multi-dimensional array - very popular library;\n",
    "2. Pandas: a data analysis library that provides a concept called data frame. A data frama is a two-dimensional data structure similar to an excel spreadsheet;\n",
    "3. Matplotlib: two dimensional plotting library for creating graphs and plots;\n",
    "4. Scikit-Learn: provides all the common algorithms, like decision trees, neural networks and so on. \n"
   ]
  }
 ],
 "metadata": {
  "language_info": {
   "name": "python"
  },
  "orig_nbformat": 4
 },
 "nbformat": 4,
 "nbformat_minor": 2
}
