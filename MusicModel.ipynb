{
 "cells": [
  {
   "cell_type": "markdown",
   "id": "096c8cab",
   "metadata": {},
   "source": [
    "# Music Model \n",
    "Predicting the kind of music people like."
   ]
  },
  {
   "cell_type": "markdown",
   "id": "51c70c3f",
   "metadata": {},
   "source": [
    "This notebook was created while I was taking an tutorial from Youtube:\n",
    "\n",
    "-- Python Machine Learning Tutorial (Data Science) --\n",
    "https://www.youtube.com/watch?v=7eh4d6sabA0\n",
    "\n",
    "The comments and markdowns was made from his teachings, so I could understand better and also consult this document later when needed. \n",
    "\n"
   ]
  },
  {
   "cell_type": "code",
   "execution_count": 99,
   "id": "74bc3b90",
   "metadata": {},
   "outputs": [
    {
     "name": "stdout",
     "output_type": "stream",
     "text": [
      "Defaulting to user installation because normal site-packages is not writeable\n",
      "Requirement already satisfied: scikit-learn in /home/lorena/.local/lib/python3.10/site-packages (1.2.2)\n",
      "Requirement already satisfied: scipy>=1.3.2 in /home/lorena/.local/lib/python3.10/site-packages (from scikit-learn) (1.10.1)\n",
      "Requirement already satisfied: numpy>=1.17.3 in /home/lorena/.local/lib/python3.10/site-packages (from scikit-learn) (1.24.2)\n",
      "Requirement already satisfied: joblib>=1.1.1 in /home/lorena/.local/lib/python3.10/site-packages (from scikit-learn) (1.2.0)\n",
      "Requirement already satisfied: threadpoolctl>=2.0.0 in /home/lorena/.local/lib/python3.10/site-packages (from scikit-learn) (3.1.0)\n"
     ]
    }
   ],
   "source": [
    "!pip install scikit-learn"
   ]
  },
  {
   "cell_type": "markdown",
   "id": "4d7c2fd6",
   "metadata": {},
   "source": [
    "# Selecting the Data"
   ]
  },
  {
   "cell_type": "code",
   "execution_count": 101,
   "id": "38e3ebc2",
   "metadata": {
    "scrolled": true
   },
   "outputs": [],
   "source": [
    "import pandas as pd\n",
    "from sklearn.tree import DecisionTreeClassifier\n",
    "from sklearn.model_selection import train_test_split\n",
    "from sklearn.metrics import accuracy_score\n",
    "from sklearn import tree\n",
    "\n",
    "music_data = pd.read_csv('music.csv')\n"
   ]
  },
  {
   "cell_type": "markdown",
   "id": "a4cc9302",
   "metadata": {},
   "source": [
    "# Preparing the Data"
   ]
  },
  {
   "cell_type": "markdown",
   "id": "7ff312dc",
   "metadata": {},
   "source": [
    "We should split the data set into two separate data sets:\n",
    "1. One with the first two columns, we will call it 'input set'\n",
    "2. The other, with the last column, which we refer to as the 'output set'. \n",
    "\n",
    "The output set, in this case, is the genre column, that contains the predictions."
   ]
  },
  {
   "cell_type": "code",
   "execution_count": 102,
   "id": "bc23efb4",
   "metadata": {},
   "outputs": [],
   "source": [
    "X = music_data.drop(columns=['genre'])\n",
    "# input set; create a new dataset without the 'genre'\n",
    "y = music_data['genre'] \n",
    "# output set, where we have the predictions\n",
    "\n",
    "X_train, X_test, y_train, y_test = train_test_split(X, y, test_size=0.2) \n",
    "# alocating 20% of our data to testing\n",
    "# the X  values are the input values and the y are the output"
   ]
  },
  {
   "cell_type": "markdown",
   "id": "e3617b4a",
   "metadata": {},
   "source": [
    "# Creating a Model"
   ]
  },
  {
   "cell_type": "markdown",
   "id": "f079475d",
   "metadata": {},
   "source": [
    "For this problem we're going to use a very simple algorithm called 'decision tree', using Scikit-Learn. "
   ]
  },
  {
   "cell_type": "code",
   "execution_count": 103,
   "id": "1c0fcc4b",
   "metadata": {},
   "outputs": [],
   "source": [
    "# from sklearn.tree import DecisionTreeClassifier"
   ]
  },
  {
   "cell_type": "markdown",
   "id": "5e10bc21",
   "metadata": {},
   "source": [
    "# Training the Model & Make Predictions\n",
    "\n",
    "This method takes a two dimensional array, so first I past the new input set as 21 old male 1 ( 1 = male, 0 = woman) and so on. But this is not the best choice. \n",
    "\n",
    "To train the model, instead of passing the entire data set, we want to pass the training data set: X_train and y_train.\n",
    "\n",
    "When make predictions, instead of passing few samples, we gonna pass the data set X_test, containing input values for testing."
   ]
  },
  {
   "cell_type": "code",
   "execution_count": 104,
   "id": "6b48309d",
   "metadata": {
    "scrolled": true
   },
   "outputs": [
    {
     "data": {
      "text/plain": [
       "0.25"
      ]
     },
     "execution_count": 104,
     "metadata": {},
     "output_type": "execute_result"
    }
   ],
   "source": [
    "model = DecisionTreeClassifier()\n",
    "model.fit(X_train,y_train)\n",
    "predictions = model.predict(X_test)\n",
    "score = accuracy_score (y_test, predictions)\n",
    "score"
   ]
  },
  {
   "cell_type": "markdown",
   "id": "386a2065",
   "metadata": {},
   "source": [
    "# Calculating Accuracy\n",
    "\n",
    "First, we gonna split our data set into two sets: one for training and other for testing, because right now we're passing the entire data set for training the model and we are using two samples to make predictions, which is not enough to calculate the accuracy of a model. \n",
    "\n",
    "We should alocate 70-80% of our data for training and the other 20-30% for testing."
   ]
  },
  {
   "cell_type": "markdown",
   "id": "cdb140f0",
   "metadata": {},
   "source": [
    "To calculate the accuracy we simply have to compare this predictions with the actual values we have in our output set for testing. AT the beggining then, we impred a function from Scikit-Learn.\n",
    "\n",
    "So now, at the end, we call this function 'accuracy_score', where the arguments are 'y_test' contains the expected values and 'predictions' contains the actual values."
   ]
  },
  {
   "cell_type": "markdown",
   "id": "b09e6a46",
   "metadata": {},
   "source": [
    "# Visualizing Decision Trees\n",
    "\n",
    "Exporting a model in a visual format:\n"
   ]
  },
  {
   "cell_type": "code",
   "execution_count": 106,
   "id": "29518d91",
   "metadata": {},
   "outputs": [],
   "source": [
    "# from sklearn import tree\n",
    "# after we train our model let's call, passing two arguments - \n",
    "# the first is our model, the second is the name of the output file\n",
    "\n",
    "tree.export_graphviz(model, out_file='music-recomender.dot', \n",
    "                     feature_names = ['age', 'gender'],\n",
    "                     class_names = sorted(y.unique()),\n",
    "                     label = 'all', rounded=True, filled=True)"
   ]
  },
  {
   "cell_type": "code",
   "execution_count": null,
   "id": "4ec274ab",
   "metadata": {},
   "outputs": [],
   "source": []
  },
  {
   "cell_type": "code",
   "execution_count": null,
   "id": "5e05988c",
   "metadata": {},
   "outputs": [],
   "source": []
  }
 ],
 "metadata": {
  "kernelspec": {
   "display_name": "Python 3 (ipykernel)",
   "language": "python",
   "name": "python3"
  },
  "language_info": {
   "codemirror_mode": {
    "name": "ipython",
    "version": 3
   },
   "file_extension": ".py",
   "mimetype": "text/x-python",
   "name": "python",
   "nbconvert_exporter": "python",
   "pygments_lexer": "ipython3",
   "version": "3.10.6"
  }
 },
 "nbformat": 4,
 "nbformat_minor": 5
}
